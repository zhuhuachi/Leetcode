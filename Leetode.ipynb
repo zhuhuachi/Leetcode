{
  "nbformat": 4,
  "nbformat_minor": 0,
  "metadata": {
    "colab": {
      "name": "Leetode.ipynb",
      "provenance": [],
      "authorship_tag": "ABX9TyOXBadxezcl6YEaEwA+nHuy",
      "include_colab_link": true
    },
    "kernelspec": {
      "name": "python3",
      "display_name": "Python 3"
    },
    "language_info": {
      "name": "python"
    }
  },
  "cells": [
    {
      "cell_type": "markdown",
      "metadata": {
        "id": "view-in-github",
        "colab_type": "text"
      },
      "source": [
        "<a href=\"https://colab.research.google.com/github/zhuhuachi/Leetcode/blob/main/Leetode.ipynb\" target=\"_parent\"><img src=\"https://colab.research.google.com/assets/colab-badge.svg\" alt=\"Open In Colab\"/></a>"
      ]
    },
    {
      "cell_type": "markdown",
      "source": [
        "1.给你一个链表，删除链表的倒数第 n 个结点，并且返回链表的头结点。\n",
        "\n"
      ],
      "metadata": {
        "id": "ryl8iS1_wu7_"
      }
    },
    {
      "cell_type": "code",
      "execution_count": null,
      "metadata": {
        "id": "bNEQrfTkwq5k"
      },
      "outputs": [],
      "source": [
        "class Solution:\n",
        "    def removeNthFromEnd(self, head: ListNode, n: int) -> ListNode:\n",
        "        # 定义哑终端，便于前项循环使用\n",
        "        dummy = ListNode(0)\n",
        "        dummy.next = head\n",
        "\n",
        "        # 定义快慢指针，\n",
        "        slow, fast = dummy, head\n",
        "\n",
        "        # 先让fast跑n步\n",
        "        for _ in range(n):\n",
        "            fast = fast.next\n",
        "\n",
        "        # 快慢节点同步跑，循环到fast末尾，退出\n",
        "        while fast:\n",
        "            fast = fast.next \n",
        "            slow = slow.next \n",
        "        \n",
        "        # 将fast 连接下下一个，调过N位置\n",
        "        slow.next = slow.next.next\n",
        "        # 返回已经修改后的链表，dummy是哑终端，所以next才是真实链表 \n",
        "        return dummy.next \n",
        "\n"
      ]
    }
  ]
}