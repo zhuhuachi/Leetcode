{
  "nbformat": 4,
  "nbformat_minor": 0,
  "metadata": {
    "colab": {
      "name": "Leetode.ipynb",
      "provenance": [],
      "authorship_tag": "ABX9TyOZhOuH+Aq/19oUlaV5w3k6",
      "include_colab_link": true
    },
    "kernelspec": {
      "name": "python3",
      "display_name": "Python 3"
    },
    "language_info": {
      "name": "python"
    }
  },
  "cells": [
    {
      "cell_type": "markdown",
      "metadata": {
        "id": "view-in-github",
        "colab_type": "text"
      },
      "source": [
        "<a href=\"https://colab.research.google.com/github/zhuhuachi/Leetcode/blob/main/Leetode.ipynb\" target=\"_parent\"><img src=\"https://colab.research.google.com/assets/colab-badge.svg\" alt=\"Open In Colab\"/></a>"
      ]
    },
    {
      "cell_type": "markdown",
      "source": [
        "1.给你一个链表，删除链表的倒数第 n 个结点，并且返回链表的头结点。\n",
        "\n"
      ],
      "metadata": {
        "id": "ryl8iS1_wu7_"
      }
    },
    {
      "cell_type": "code",
      "execution_count": null,
      "metadata": {
        "id": "bNEQrfTkwq5k"
      },
      "outputs": [],
      "source": [
        "class Solution:\n",
        "    def removeNthFromEnd(self, head: ListNode, n: int) -> ListNode:\n",
        "        # 定义哑终端，便于前项循环使用\n",
        "        dummy = ListNode(0)\n",
        "        dummy.next = head\n",
        "\n",
        "        # 定义快慢指针，\n",
        "        slow, fast = dummy, head\n",
        "\n",
        "        # 先让fast跑n步\n",
        "        for _ in range(n):\n",
        "            fast = fast.next\n",
        "\n",
        "        # 快慢节点同步跑，循环到fast末尾，退出\n",
        "        while fast:\n",
        "            fast = fast.next \n",
        "            slow = slow.next \n",
        "        \n",
        "        # 将fast 连接下下一个，调过N位置\n",
        "        slow.next = slow.next.next\n",
        "        # 返回已经修改后的链表，dummy是哑终端，所以next才是真实链表 \n",
        "        return dummy.next \n",
        "\n"
      ]
    },
    {
      "cell_type": "code",
      "source": [
        "def strToInt(str):\n",
        "  str = str.strip()                      # 删除首尾空格\n",
        "  if not str: return 0                   # 字符串为空则直接返回\n",
        "  res, i, sign = 0, 1, 1\n",
        "  int_max, int_min, bndry = 2 ** 31 - 1, -2 ** 31, 2 ** 31 // 10\n",
        "  if str[0] == '-': sign = -1            # 保存负号\n",
        "  elif str[0] != '+': i = 0              # 若无符号位，则需从 i = 0 开始数字拼接\n",
        "  for c in str[i:]:\n",
        "    if not '0' <= c <= '9' : break     # 遇到非数字的字符则跳出\n",
        "    if res > bndry or res == bndry and c > '7': return int_max if sign == 1 else int_min # 数字越界处理\n",
        "    res = 10 * res + ord(c) - ord('0') # 数字拼接\n",
        "  return sign * res\n",
        "\n",
        "strToInt('-91283472332')\n"
      ],
      "metadata": {
        "id": "iXvAdgYuJ-Pj",
        "outputId": "13c05953-07e3-471e-9a31-d7b257c75d5d",
        "colab": {
          "base_uri": "https://localhost:8080/"
        }
      },
      "execution_count": 6,
      "outputs": [
        {
          "output_type": "execute_result",
          "data": {
            "text/plain": [
              "-2147483648"
            ]
          },
          "metadata": {},
          "execution_count": 6
        }
      ]
    }
  ]
}